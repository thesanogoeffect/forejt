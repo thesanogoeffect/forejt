{
 "cells": [
  {
   "cell_type": "code",
   "execution_count": 1,
   "metadata": {},
   "outputs": [],
   "source": [
    "import pandas as pd\n",
    "matches_dfs = pd.read_html(\"https://www.psmf.cz/souteze/2024-hanspaulska-liga-podzim/7-c/tymy/forejt-fc/\")"
   ]
  },
  {
   "cell_type": "code",
   "execution_count": 2,
   "metadata": {},
   "outputs": [
    {
     "name": "stdout",
     "output_type": "stream",
     "text": [
      "=========================================\n",
      "DataFrame 0\n",
      "<class 'pandas.core.frame.DataFrame'>\n",
      "RangeIndex: 12 entries, 0 to 11\n",
      "Data columns (total 8 columns):\n",
      " #   Column           Non-Null Count  Dtype  \n",
      "---  ------           --------------  -----  \n",
      " 0   Pořadí           12 non-null     float64\n",
      " 1   Tým              12 non-null     object \n",
      " 2   Odehrané zápasy  12 non-null     int64  \n",
      " 3   Počet výher      12 non-null     int64  \n",
      " 4   Počet remíz      12 non-null     int64  \n",
      " 5   Počet proher     12 non-null     int64  \n",
      " 6   Skóre            12 non-null     object \n",
      " 7   Počet bodů       12 non-null     int64  \n",
      "dtypes: float64(1), int64(5), object(2)\n",
      "memory usage: 900.0+ bytes\n",
      "None\n",
      "   Pořadí                   Tým  Odehrané zápasy  Počet výher  Počet remíz  \\\n",
      "0     1.0             Cvrčci FC                0            0            0   \n",
      "1     2.0           Instinct FC                0            0            0   \n",
      "2     3.0         Greenhorns FC                0            0            0   \n",
      "3     4.0  Diablos Blancos C.F.                0            0            0   \n",
      "4     5.0             Forejt FC                0            0            0   \n",
      "\n",
      "   Počet proher Skóre  Počet bodů  \n",
      "0             0   0:0           0  \n",
      "1             0   0:0           0  \n",
      "2             0   0:0           0  \n",
      "3             0   0:0           0  \n",
      "4             0   0:0           0  \n",
      "=========================================\n",
      "DataFrame 1\n",
      "<class 'pandas.core.frame.DataFrame'>\n",
      "RangeIndex: 11 entries, 0 to 10\n",
      "Data columns (total 5 columns):\n",
      " #   Column          Non-Null Count  Dtype  \n",
      "---  ------          --------------  -----  \n",
      " 0   Datum           11 non-null     object \n",
      " 1   Čas             11 non-null     object \n",
      " 2   Hřiště          11 non-null     object \n",
      " 3   Domácí - Hosté  11 non-null     object \n",
      " 4   Kolo            11 non-null     float64\n",
      "dtypes: float64(1), object(4)\n",
      "memory usage: 572.0+ bytes\n",
      "None\n",
      "         Datum    Čas Hřiště                   Domácí - Hosté  Kolo\n",
      "0    Út 3.9.24  20:45  LITVI  Diablos Blancos C.F.  Forejt FC   1.0\n",
      "1   Út 10.9.24  20:30  MOTO1    Víťazný február FK  Forejt FC   2.0\n",
      "2   Út 17.9.24  20:45   ARIT         Forejt FC  Greenhorns FC   3.0\n",
      "3   Út 1.10.24  19:30  STER2           Instinct FC  Forejt FC   4.0\n",
      "4  Út 15.10.24  20:45  CESMI            Forejt FC  Libeň SK A   5.0\n",
      "=========================================\n",
      "DataFrame 2\n",
      "<class 'pandas.core.frame.DataFrame'>\n",
      "RangeIndex: 2 entries, 0 to 1\n",
      "Data columns (total 3 columns):\n",
      " #   Column  Non-Null Count  Dtype  \n",
      "---  ------  --------------  -----  \n",
      " 0   0       0 non-null      float64\n",
      " 1   1       2 non-null      object \n",
      " 2   2       0 non-null      float64\n",
      "dtypes: float64(2), object(1)\n",
      "memory usage: 180.0+ bytes\n",
      "None\n",
      "    0   1   2\n",
      "0 NaN  vs NaN\n",
      "1 NaN   : NaN\n",
      "=========================================\n",
      "DataFrame 3\n",
      "<class 'pandas.core.frame.DataFrame'>\n",
      "RangeIndex: 6 entries, 0 to 5\n",
      "Data columns (total 4 columns):\n",
      " #   Column          Non-Null Count  Dtype \n",
      "---  ------          --------------  ----- \n",
      " 0   Datum           6 non-null      object\n",
      " 1   Čas             6 non-null      object\n",
      " 2   Hřiště          6 non-null      object\n",
      " 3   Domácí - Hosté  6 non-null      object\n",
      "dtypes: object(4)\n",
      "memory usage: 324.0+ bytes\n",
      "None\n",
      "        Datum    Čas Hřiště                               Domácí - Hosté\n",
      "0   Po 9.9.24  18:15  LITVI           Ústavan 01 KK  A.Č.A.B. FC  (HL7A)\n",
      "1   Po 9.9.24  19:30  LITVI  Slovan Amatéři  New Jersey Devils B  (HL6A)\n",
      "2   Po 9.9.24  20:45  LITVI     Polnohospodár Praha  Pražští lvi  (HL6A)\n",
      "3  Po 9.12.24  18:15  STER2     Prokaryota FZ  Notorlet Stodůlky  (HL6B)\n",
      "4  Po 9.12.24  19:30  STER2           Squadra Azzurra  Chábři FC  (HL5B)\n"
     ]
    }
   ],
   "source": [
    "# print details and heads of all the loaded dfs\n",
    "for i, df in enumerate(matches_dfs):\n",
    "    print(\"=========================================\")\n",
    "    print(f\"DataFrame {i}\")\n",
    "    print(df.info())\n",
    "    print(df.head())"
   ]
  },
  {
   "cell_type": "code",
   "execution_count": 3,
   "metadata": {},
   "outputs": [
    {
     "data": {
      "text/html": [
       "<div>\n",
       "<style scoped>\n",
       "    .dataframe tbody tr th:only-of-type {\n",
       "        vertical-align: middle;\n",
       "    }\n",
       "\n",
       "    .dataframe tbody tr th {\n",
       "        vertical-align: top;\n",
       "    }\n",
       "\n",
       "    .dataframe thead th {\n",
       "        text-align: right;\n",
       "    }\n",
       "</style>\n",
       "<table border=\"1\" class=\"dataframe\">\n",
       "  <thead>\n",
       "    <tr style=\"text-align: right;\">\n",
       "      <th></th>\n",
       "      <th>0</th>\n",
       "      <th>1</th>\n",
       "      <th>2</th>\n",
       "    </tr>\n",
       "  </thead>\n",
       "  <tbody>\n",
       "    <tr>\n",
       "      <th>0</th>\n",
       "      <td>NaN</td>\n",
       "      <td>vs</td>\n",
       "      <td>NaN</td>\n",
       "    </tr>\n",
       "    <tr>\n",
       "      <th>1</th>\n",
       "      <td>NaN</td>\n",
       "      <td>:</td>\n",
       "      <td>NaN</td>\n",
       "    </tr>\n",
       "  </tbody>\n",
       "</table>\n",
       "</div>"
      ],
      "text/plain": [
       "    0   1   2\n",
       "0 NaN  vs NaN\n",
       "1 NaN   : NaN"
      ]
     },
     "execution_count": 3,
     "metadata": {},
     "output_type": "execute_result"
    }
   ],
   "source": [
    "scoreboard_df = matches_dfs[2]\n",
    "scoreboard_df"
   ]
  },
  {
   "cell_type": "code",
   "execution_count": 4,
   "metadata": {},
   "outputs": [
    {
     "ename": "KeyError",
     "evalue": "\"None of ['Tým'] are in the columns\"",
     "output_type": "error",
     "traceback": [
      "\u001b[0;31m---------------------------------------------------------------------------\u001b[0m",
      "\u001b[0;31mKeyError\u001b[0m                                  Traceback (most recent call last)",
      "\u001b[0;32m/var/folders/xj/4xykk1296fq604jr82zs44j00000gn/T/ipykernel_65485/2733373572.py\u001b[0m in \u001b[0;36m?\u001b[0;34m()\u001b[0m\n\u001b[1;32m      5\u001b[0m     \u001b[0mscoreboard_df\u001b[0m\u001b[0;34m.\u001b[0m\u001b[0mset_index\u001b[0m\u001b[0;34m(\u001b[0m\u001b[0;34m\"Tým\"\u001b[0m\u001b[0;34m,\u001b[0m \u001b[0minplace\u001b[0m\u001b[0;34m=\u001b[0m\u001b[0;32mTrue\u001b[0m\u001b[0;34m)\u001b[0m\u001b[0;34m\u001b[0m\u001b[0;34m\u001b[0m\u001b[0m\n\u001b[1;32m      6\u001b[0m     \u001b[0mteam_row\u001b[0m \u001b[0;34m=\u001b[0m \u001b[0mscoreboard_df\u001b[0m\u001b[0;34m.\u001b[0m\u001b[0mloc\u001b[0m\u001b[0;34m[\u001b[0m\u001b[0mteam_name\u001b[0m\u001b[0;34m]\u001b[0m\u001b[0;34m\u001b[0m\u001b[0;34m\u001b[0m\u001b[0m\n\u001b[1;32m      7\u001b[0m     \u001b[0;32mreturn\u001b[0m \u001b[0;34m(\u001b[0m\u001b[0mteam_row\u001b[0m\u001b[0;34m[\u001b[0m\u001b[0;34m\"Pořadí\"\u001b[0m\u001b[0;34m]\u001b[0m\u001b[0;34m,\u001b[0m \u001b[0mteam_row\u001b[0m\u001b[0;34m[\u001b[0m\u001b[0;34m\"Počet bodů\"\u001b[0m\u001b[0;34m]\u001b[0m\u001b[0;34m)\u001b[0m\u001b[0;34m\u001b[0m\u001b[0;34m\u001b[0m\u001b[0m\n\u001b[1;32m      8\u001b[0m \u001b[0;34m\u001b[0m\u001b[0m\n\u001b[0;32m----> 9\u001b[0;31m \u001b[0mget_team_position_points\u001b[0m\u001b[0;34m(\u001b[0m\u001b[0mscoreboard_df\u001b[0m\u001b[0;34m,\u001b[0m \u001b[0;34m\"Forejt FC\"\u001b[0m\u001b[0;34m)\u001b[0m\u001b[0;34m\u001b[0m\u001b[0;34m\u001b[0m\u001b[0m\n\u001b[0m",
      "\u001b[0;32m/var/folders/xj/4xykk1296fq604jr82zs44j00000gn/T/ipykernel_65485/2733373572.py\u001b[0m in \u001b[0;36m?\u001b[0;34m(scoreboard_df, team_name)\u001b[0m\n\u001b[1;32m      1\u001b[0m \u001b[0;32mdef\u001b[0m \u001b[0mget_team_position_points\u001b[0m\u001b[0;34m(\u001b[0m\u001b[0mscoreboard_df\u001b[0m\u001b[0;34m,\u001b[0m \u001b[0mteam_name\u001b[0m\u001b[0;34m)\u001b[0m\u001b[0;34m:\u001b[0m\u001b[0;34m\u001b[0m\u001b[0;34m\u001b[0m\u001b[0m\n\u001b[1;32m      2\u001b[0m     \u001b[0;31m# return a tuple containing the team position and points\u001b[0m\u001b[0;34m\u001b[0m\u001b[0;34m\u001b[0m\u001b[0m\n\u001b[1;32m      3\u001b[0m     \u001b[0;31m# for example: (1, 12)\u001b[0m\u001b[0;34m\u001b[0m\u001b[0;34m\u001b[0m\u001b[0m\n\u001b[1;32m      4\u001b[0m \u001b[0;34m\u001b[0m\u001b[0m\n\u001b[0;32m----> 5\u001b[0;31m     \u001b[0mscoreboard_df\u001b[0m\u001b[0;34m.\u001b[0m\u001b[0mset_index\u001b[0m\u001b[0;34m(\u001b[0m\u001b[0;34m\"Tým\"\u001b[0m\u001b[0;34m,\u001b[0m \u001b[0minplace\u001b[0m\u001b[0;34m=\u001b[0m\u001b[0;32mTrue\u001b[0m\u001b[0;34m)\u001b[0m\u001b[0;34m\u001b[0m\u001b[0;34m\u001b[0m\u001b[0m\n\u001b[0m\u001b[1;32m      6\u001b[0m     \u001b[0mteam_row\u001b[0m \u001b[0;34m=\u001b[0m \u001b[0mscoreboard_df\u001b[0m\u001b[0;34m.\u001b[0m\u001b[0mloc\u001b[0m\u001b[0;34m[\u001b[0m\u001b[0mteam_name\u001b[0m\u001b[0;34m]\u001b[0m\u001b[0;34m\u001b[0m\u001b[0;34m\u001b[0m\u001b[0m\n\u001b[1;32m      7\u001b[0m     \u001b[0;32mreturn\u001b[0m \u001b[0;34m(\u001b[0m\u001b[0mteam_row\u001b[0m\u001b[0;34m[\u001b[0m\u001b[0;34m\"Pořadí\"\u001b[0m\u001b[0;34m]\u001b[0m\u001b[0;34m,\u001b[0m \u001b[0mteam_row\u001b[0m\u001b[0;34m[\u001b[0m\u001b[0;34m\"Počet bodů\"\u001b[0m\u001b[0;34m]\u001b[0m\u001b[0;34m)\u001b[0m\u001b[0;34m\u001b[0m\u001b[0;34m\u001b[0m\u001b[0m\n",
      "\u001b[0;32m~/Projects/forejt/venv/lib/python3.11/site-packages/pandas/core/frame.py\u001b[0m in \u001b[0;36m?\u001b[0;34m(self, keys, drop, append, inplace, verify_integrity)\u001b[0m\n\u001b[1;32m   6105\u001b[0m                     \u001b[0;32mif\u001b[0m \u001b[0;32mnot\u001b[0m \u001b[0mfound\u001b[0m\u001b[0;34m:\u001b[0m\u001b[0;34m\u001b[0m\u001b[0;34m\u001b[0m\u001b[0m\n\u001b[1;32m   6106\u001b[0m                         \u001b[0mmissing\u001b[0m\u001b[0;34m.\u001b[0m\u001b[0mappend\u001b[0m\u001b[0;34m(\u001b[0m\u001b[0mcol\u001b[0m\u001b[0;34m)\u001b[0m\u001b[0;34m\u001b[0m\u001b[0;34m\u001b[0m\u001b[0m\n\u001b[1;32m   6107\u001b[0m \u001b[0;34m\u001b[0m\u001b[0m\n\u001b[1;32m   6108\u001b[0m         \u001b[0;32mif\u001b[0m \u001b[0mmissing\u001b[0m\u001b[0;34m:\u001b[0m\u001b[0;34m\u001b[0m\u001b[0;34m\u001b[0m\u001b[0m\n\u001b[0;32m-> 6109\u001b[0;31m             \u001b[0;32mraise\u001b[0m \u001b[0mKeyError\u001b[0m\u001b[0;34m(\u001b[0m\u001b[0;34mf\"None of {missing} are in the columns\"\u001b[0m\u001b[0;34m)\u001b[0m\u001b[0;34m\u001b[0m\u001b[0;34m\u001b[0m\u001b[0m\n\u001b[0m\u001b[1;32m   6110\u001b[0m \u001b[0;34m\u001b[0m\u001b[0m\n\u001b[1;32m   6111\u001b[0m         \u001b[0;32mif\u001b[0m \u001b[0minplace\u001b[0m\u001b[0;34m:\u001b[0m\u001b[0;34m\u001b[0m\u001b[0;34m\u001b[0m\u001b[0m\n\u001b[1;32m   6112\u001b[0m             \u001b[0mframe\u001b[0m \u001b[0;34m=\u001b[0m \u001b[0mself\u001b[0m\u001b[0;34m\u001b[0m\u001b[0;34m\u001b[0m\u001b[0m\n",
      "\u001b[0;31mKeyError\u001b[0m: \"None of ['Tým'] are in the columns\""
     ]
    }
   ],
   "source": [
    "def get_team_position_points(scoreboard_df, team_name):\n",
    "    # return a tuple containing the team position and points\n",
    "    # for example: (1, 12)\n",
    "\n",
    "    scoreboard_df.set_index(\"Tým\", inplace=True)\n",
    "    team_row = scoreboard_df.loc[team_name]\n",
    "    return (team_row[\"Pořadí\"], team_row[\"Počet bodů\"])\n",
    "\n",
    "get_team_position_points(scoreboard_df, \"Forejt FC\")"
   ]
  }
 ],
 "metadata": {
  "kernelspec": {
   "display_name": "forejt",
   "language": "python",
   "name": "python3"
  },
  "language_info": {
   "codemirror_mode": {
    "name": "ipython",
    "version": 3
   },
   "file_extension": ".py",
   "mimetype": "text/x-python",
   "name": "python",
   "nbconvert_exporter": "python",
   "pygments_lexer": "ipython3",
   "version": "3.11.5"
  }
 },
 "nbformat": 4,
 "nbformat_minor": 2
}
